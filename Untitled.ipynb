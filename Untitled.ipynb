{
 "cells": [
  {
   "cell_type": "code",
   "execution_count": 1,
   "id": "451a725f-3051-46b7-a945-70a06a771b74",
   "metadata": {},
   "outputs": [],
   "source": [
    "import pandas as pd\n",
    "import numpy as np"
   ]
  },
  {
   "cell_type": "code",
   "execution_count": 2,
   "id": "6c959ee6-b58f-4abd-a227-cd561c9e4a7a",
   "metadata": {},
   "outputs": [],
   "source": [
    "import os\n",
    "import cv2  # For image processing\n",
    "from tqdm import tqdm  # For progress bar\n"
   ]
  },
  {
   "cell_type": "code",
   "execution_count": 3,
   "id": "34e0dfe6-220d-4d00-ad26-73bf3ded13cb",
   "metadata": {},
   "outputs": [],
   "source": [
    "# Define paths for cat and dog folders\n",
    "cat_folder = 'Cat/'\n",
    "dog_folder = 'Dog/'\n"
   ]
  },
  {
   "cell_type": "code",
   "execution_count": 4,
   "id": "a33fd07f-21a5-4991-ba9d-797d9011d772",
   "metadata": {},
   "outputs": [
    {
     "name": "stderr",
     "output_type": "stream",
     "text": [
      "Loading cat images: 100%|██████████| 12491/12491 [00:25<00:00, 483.05it/s]\n",
      "Loading dog images: 100%|██████████| 12470/12470 [00:31<00:00, 397.06it/s]\n"
     ]
    }
   ],
   "source": [
    "# Set image size (you can adjust this based on your needs)\n",
    "IMG_SIZE = (128, 128)  # Resize images to 128x128\n",
    "\n",
    "# Prepare lists to store images and labels\n",
    "images = []\n",
    "labels = []\n",
    "\n",
    "# Load cat images and assign label 0\n",
    "for img_name in tqdm(os.listdir(cat_folder), desc=\"Loading cat images\"):\n",
    "    img_path = os.path.join(cat_folder, img_name)\n",
    "    img = cv2.imread(img_path)\n",
    "    if img is not None:\n",
    "        img = cv2.resize(img, IMG_SIZE)  # Resize to standard size\n",
    "        images.append(img)\n",
    "        labels.append(0)  # Label 0 for cat\n",
    "\n",
    "# Load dog images and assign label 1\n",
    "for img_name in tqdm(os.listdir(dog_folder), desc=\"Loading dog images\"):\n",
    "    img_path = os.path.join(dog_folder, img_name)\n",
    "    img = cv2.imread(img_path)\n",
    "    if img is not None:\n",
    "        img = cv2.resize(img, IMG_SIZE)\n",
    "        images.append(img)\n",
    "        labels.append(1)  # Label 1 for dog\n"
   ]
  },
  {
   "cell_type": "code",
   "execution_count": 5,
   "id": "d58d9a79-7407-4926-8fff-d7b1f50509e8",
   "metadata": {},
   "outputs": [],
   "source": [
    "# Flatten each image into a 1D array and create a DataFrame\n",
    "image_array = np.array(images).reshape(len(images), -1)  # Flatten images\n",
    "labels_array = np.array(labels)\n",
    "\n",
    "# Create DataFrame\n",
    "df = pd.DataFrame(image_array)\n",
    "df['label'] = labels_array  # Add labels as a separate column\n"
   ]
  },
  {
   "cell_type": "code",
   "execution_count": 6,
   "id": "fef73d74-e3f7-4912-b7b2-54bc783af4c6",
   "metadata": {},
   "outputs": [
    {
     "data": {
      "text/html": [
       "<div>\n",
       "<style scoped>\n",
       "    .dataframe tbody tr th:only-of-type {\n",
       "        vertical-align: middle;\n",
       "    }\n",
       "\n",
       "    .dataframe tbody tr th {\n",
       "        vertical-align: top;\n",
       "    }\n",
       "\n",
       "    .dataframe thead th {\n",
       "        text-align: right;\n",
       "    }\n",
       "</style>\n",
       "<table border=\"1\" class=\"dataframe\">\n",
       "  <thead>\n",
       "    <tr style=\"text-align: right;\">\n",
       "      <th></th>\n",
       "      <th>0</th>\n",
       "      <th>1</th>\n",
       "      <th>2</th>\n",
       "      <th>3</th>\n",
       "      <th>4</th>\n",
       "      <th>5</th>\n",
       "      <th>6</th>\n",
       "      <th>7</th>\n",
       "      <th>8</th>\n",
       "      <th>9</th>\n",
       "      <th>...</th>\n",
       "      <th>49143</th>\n",
       "      <th>49144</th>\n",
       "      <th>49145</th>\n",
       "      <th>49146</th>\n",
       "      <th>49147</th>\n",
       "      <th>49148</th>\n",
       "      <th>49149</th>\n",
       "      <th>49150</th>\n",
       "      <th>49151</th>\n",
       "      <th>label</th>\n",
       "    </tr>\n",
       "  </thead>\n",
       "  <tbody>\n",
       "    <tr>\n",
       "      <th>0</th>\n",
       "      <td>87</td>\n",
       "      <td>164</td>\n",
       "      <td>203</td>\n",
       "      <td>92</td>\n",
       "      <td>169</td>\n",
       "      <td>208</td>\n",
       "      <td>94</td>\n",
       "      <td>171</td>\n",
       "      <td>210</td>\n",
       "      <td>99</td>\n",
       "      <td>...</td>\n",
       "      <td>0</td>\n",
       "      <td>1</td>\n",
       "      <td>1</td>\n",
       "      <td>0</td>\n",
       "      <td>1</td>\n",
       "      <td>1</td>\n",
       "      <td>0</td>\n",
       "      <td>1</td>\n",
       "      <td>1</td>\n",
       "      <td>0</td>\n",
       "    </tr>\n",
       "    <tr>\n",
       "      <th>1</th>\n",
       "      <td>39</td>\n",
       "      <td>43</td>\n",
       "      <td>38</td>\n",
       "      <td>42</td>\n",
       "      <td>43</td>\n",
       "      <td>39</td>\n",
       "      <td>47</td>\n",
       "      <td>43</td>\n",
       "      <td>39</td>\n",
       "      <td>65</td>\n",
       "      <td>...</td>\n",
       "      <td>40</td>\n",
       "      <td>47</td>\n",
       "      <td>63</td>\n",
       "      <td>27</td>\n",
       "      <td>35</td>\n",
       "      <td>48</td>\n",
       "      <td>22</td>\n",
       "      <td>32</td>\n",
       "      <td>42</td>\n",
       "      <td>0</td>\n",
       "    </tr>\n",
       "    <tr>\n",
       "      <th>2</th>\n",
       "      <td>42</td>\n",
       "      <td>35</td>\n",
       "      <td>30</td>\n",
       "      <td>27</td>\n",
       "      <td>18</td>\n",
       "      <td>13</td>\n",
       "      <td>43</td>\n",
       "      <td>32</td>\n",
       "      <td>28</td>\n",
       "      <td>57</td>\n",
       "      <td>...</td>\n",
       "      <td>3</td>\n",
       "      <td>193</td>\n",
       "      <td>192</td>\n",
       "      <td>4</td>\n",
       "      <td>188</td>\n",
       "      <td>189</td>\n",
       "      <td>6</td>\n",
       "      <td>167</td>\n",
       "      <td>173</td>\n",
       "      <td>0</td>\n",
       "    </tr>\n",
       "    <tr>\n",
       "      <th>3</th>\n",
       "      <td>219</td>\n",
       "      <td>224</td>\n",
       "      <td>222</td>\n",
       "      <td>219</td>\n",
       "      <td>224</td>\n",
       "      <td>223</td>\n",
       "      <td>218</td>\n",
       "      <td>223</td>\n",
       "      <td>222</td>\n",
       "      <td>217</td>\n",
       "      <td>...</td>\n",
       "      <td>212</td>\n",
       "      <td>212</td>\n",
       "      <td>214</td>\n",
       "      <td>207</td>\n",
       "      <td>212</td>\n",
       "      <td>214</td>\n",
       "      <td>211</td>\n",
       "      <td>212</td>\n",
       "      <td>216</td>\n",
       "      <td>0</td>\n",
       "    </tr>\n",
       "    <tr>\n",
       "      <th>4</th>\n",
       "      <td>70</td>\n",
       "      <td>107</td>\n",
       "      <td>133</td>\n",
       "      <td>71</td>\n",
       "      <td>110</td>\n",
       "      <td>138</td>\n",
       "      <td>75</td>\n",
       "      <td>116</td>\n",
       "      <td>145</td>\n",
       "      <td>78</td>\n",
       "      <td>...</td>\n",
       "      <td>65</td>\n",
       "      <td>93</td>\n",
       "      <td>103</td>\n",
       "      <td>59</td>\n",
       "      <td>83</td>\n",
       "      <td>93</td>\n",
       "      <td>57</td>\n",
       "      <td>79</td>\n",
       "      <td>90</td>\n",
       "      <td>0</td>\n",
       "    </tr>\n",
       "  </tbody>\n",
       "</table>\n",
       "<p>5 rows × 49153 columns</p>\n",
       "</div>"
      ],
      "text/plain": [
       "     0    1    2    3    4    5    6    7    8    9  ...  49143  49144  49145  \\\n",
       "0   87  164  203   92  169  208   94  171  210   99  ...      0      1      1   \n",
       "1   39   43   38   42   43   39   47   43   39   65  ...     40     47     63   \n",
       "2   42   35   30   27   18   13   43   32   28   57  ...      3    193    192   \n",
       "3  219  224  222  219  224  223  218  223  222  217  ...    212    212    214   \n",
       "4   70  107  133   71  110  138   75  116  145   78  ...     65     93    103   \n",
       "\n",
       "   49146  49147  49148  49149  49150  49151  label  \n",
       "0      0      1      1      0      1      1      0  \n",
       "1     27     35     48     22     32     42      0  \n",
       "2      4    188    189      6    167    173      0  \n",
       "3    207    212    214    211    212    216      0  \n",
       "4     59     83     93     57     79     90      0  \n",
       "\n",
       "[5 rows x 49153 columns]"
      ]
     },
     "execution_count": 6,
     "metadata": {},
     "output_type": "execute_result"
    }
   ],
   "source": [
    " # Should have 128*128*3 + 1 columns (flattened image pixels + label)\n",
    "df.head()"
   ]
  },
  {
   "cell_type": "code",
   "execution_count": 7,
   "id": "bc6bbc6e-c3e7-4b87-a009-9756903b95f7",
   "metadata": {},
   "outputs": [],
   "source": [
    "import keras\n",
    "from keras.models import Sequential\n",
    "from keras.layers import Conv2D, MaxPooling2D, Flatten, Dense, Dropout\n",
    "from tensorflow.keras.optimizers import Adam\n",
    "from keras_tuner import RandomSearch\n"
   ]
  },
  {
   "cell_type": "code",
   "execution_count": 8,
   "id": "6c297ffc-eacf-4390-ac35-c8101ed757f1",
   "metadata": {},
   "outputs": [],
   "source": [
    "def build_model(hp):\n",
    "    model = Sequential()\n",
    "    model.add(keras.layers.Input(shape=(128, 128, 3)))\n",
    "    # Tune the number of Conv2D layers and the number of filters in each layer\n",
    "    for i in range(hp.Int('conv_blocks', 1, 3, default=2)):\n",
    "        model.add(Conv2D(\n",
    "            filters=hp.Int(f'filters_{i}', min_value=32, max_value=128, step=16),\n",
    "            kernel_size=hp.Choice(f'kernel_size_{i}', values=[3, 5]),\n",
    "            activation='relu',\n",
    "        ))\n",
    "        model.add(MaxPooling2D())\n",
    "\n",
    "    model.add(Flatten())\n",
    "\n",
    "    # Fully connected layer\n",
    "    model.add(Dense(\n",
    "        units=hp.Int('dense_units', min_value=32, max_value=256, step=32),\n",
    "        activation='relu'\n",
    "    ))\n",
    "\n",
    "    # Dropout layer to reduce overfitting\n",
    "    model.add(Dropout(hp.Float('dropout_rate', min_value=0.1, max_value=0.5, step=0.1)))\n",
    "\n",
    "    # Output layer for binary classification\n",
    "    model.add(Dense(1, activation='sigmoid'))\n",
    "\n",
    "    # Compile the model with a tunable learning rate\n",
    "    model.compile(\n",
    "        optimizer=Adam(hp.Float('learning_rate', min_value=1e-4, max_value=1e-2, sampling='log')),\n",
    "        loss='binary_crossentropy',\n",
    "        metrics=['accuracy']\n",
    "    )\n",
    "\n",
    "    return model\n"
   ]
  },
  {
   "cell_type": "code",
   "execution_count": 9,
   "id": "972de1e2-3ddb-4b8b-bf67-aaac261635da",
   "metadata": {},
   "outputs": [
    {
     "name": "stdout",
     "output_type": "stream",
     "text": [
      "Reloading Tuner from kt_search_dir\\cat_dog_classifier\\tuner0.json\n"
     ]
    }
   ],
   "source": [
    "# Initialize the tuner\n",
    "tuner = RandomSearch(\n",
    "    build_model,\n",
    "    objective='val_accuracy',\n",
    "    max_trials=10,  # Number of different hyperparameter configurations to try\n",
    "    executions_per_trial=2,  # Train each configuration twice to reduce variance\n",
    "    directory='kt_search_dir',\n",
    "    project_name='cat_dog_classifier'\n",
    ")\n"
   ]
  },
  {
   "cell_type": "code",
   "execution_count": 10,
   "id": "54900540-c8f5-4859-91fb-de13244c6e98",
   "metadata": {},
   "outputs": [],
   "source": [
    "from sklearn.model_selection import train_test_split\n",
    "\n",
    "# Separate features and labels\n",
    "X = df.drop(columns=['label']).values  # Image data (flattened)\n",
    "y = df['label'].values  # Labels (0 for cat, 1 for dog)\n",
    "\n"
   ]
  },
  {
   "cell_type": "code",
   "execution_count": 11,
   "id": "6e8373ff-4e25-444a-94bb-311104e323d5",
   "metadata": {},
   "outputs": [],
   "source": [
    "X_train, X_test, y_train, y_test = train_test_split(X, y, test_size=0.2, random_state=42)\n"
   ]
  },
  {
   "cell_type": "code",
   "execution_count": 12,
   "id": "4dd28448-8c27-41cc-aa4f-0a86c93d6574",
   "metadata": {},
   "outputs": [],
   "source": [
    "# Reshape the data to the original image dimensions (128, 128, 3)\n",
    "X_train = X_train.reshape(-1, 128, 128, 3)\n",
    "X_test = X_test.reshape(-1, 128, 128, 3)\n",
    "\n",
    "# Normalize pixel values to range [0, 1]\n",
    "X_train = X_train / 255.0\n",
    "X_test = X_test / 255.0\n"
   ]
  },
  {
   "cell_type": "code",
   "execution_count": 13,
   "id": "8e23ac70-82ce-48c3-9622-27416ea8ac93",
   "metadata": {},
   "outputs": [
    {
     "name": "stdout",
     "output_type": "stream",
     "text": [
      "X_train shape: (19930, 128, 128, 3)\n",
      "X_test shape: (4983, 128, 128, 3)\n",
      "y_train shape: (19930,)\n",
      "y_test shape: (4983,)\n"
     ]
    }
   ],
   "source": [
    "print(\"X_train shape:\", X_train.shape)  # Should be (num_samples, 128, 128, 3)\n",
    "print(\"X_test shape:\", X_test.shape)    # Should be (num_samples, 128, 128, 3)\n",
    "print(\"y_train shape:\", y_train.shape)  # Should be (num_samples,)\n",
    "print(\"y_test shape:\", y_test.shape)    # Should be (num_samples,)\n"
   ]
  },
  {
   "cell_type": "code",
   "execution_count": 14,
   "id": "6c0b9f07-699c-48c7-b299-9362472e092e",
   "metadata": {},
   "outputs": [],
   "source": [
    "tuner.search(\n",
    "    X_train, y_train,\n",
    "    epochs=5,\n",
    "    validation_data=(X_test, y_test)\n",
    ")\n"
   ]
  },
  {
   "cell_type": "code",
   "execution_count": 15,
   "id": "42e7b85e-6939-4a42-9fb9-eef78847e306",
   "metadata": {},
   "outputs": [
    {
     "name": "stdout",
     "output_type": "stream",
     "text": [
      "Results summary\n",
      "Results in kt_search_dir\\cat_dog_classifier\n",
      "Showing 10 best trials\n",
      "Objective(name=\"val_accuracy\", direction=\"max\")\n",
      "\n",
      "Trial 08 summary\n",
      "Hyperparameters:\n",
      "conv_blocks: 3\n",
      "filters_0: 128\n",
      "kernel_size_0: 3\n",
      "filters_1: 96\n",
      "kernel_size_1: 3\n",
      "dense_units: 256\n",
      "dropout_rate: 0.1\n",
      "learning_rate: 0.00013329804466466922\n",
      "filters_2: 80\n",
      "kernel_size_2: 3\n",
      "Score: 0.8248043358325958\n",
      "\n",
      "Trial 09 summary\n",
      "Hyperparameters:\n",
      "conv_blocks: 2\n",
      "filters_0: 128\n",
      "kernel_size_0: 3\n",
      "filters_1: 128\n",
      "kernel_size_1: 5\n",
      "dense_units: 160\n",
      "dropout_rate: 0.1\n",
      "learning_rate: 0.0005132394752741269\n",
      "filters_2: 64\n",
      "kernel_size_2: 5\n",
      "Score: 0.7910897135734558\n",
      "\n",
      "Trial 03 summary\n",
      "Hyperparameters:\n",
      "conv_blocks: 2\n",
      "filters_0: 64\n",
      "kernel_size_0: 5\n",
      "filters_1: 48\n",
      "kernel_size_1: 3\n",
      "dense_units: 128\n",
      "dropout_rate: 0.2\n",
      "learning_rate: 0.00013623270793251374\n",
      "Score: 0.7834637761116028\n",
      "\n",
      "Trial 00 summary\n",
      "Hyperparameters:\n",
      "conv_blocks: 2\n",
      "filters_0: 96\n",
      "kernel_size_0: 5\n",
      "filters_1: 80\n",
      "kernel_size_1: 5\n",
      "dense_units: 32\n",
      "dropout_rate: 0.4\n",
      "learning_rate: 0.0003946423822593413\n",
      "Score: 0.7754364609718323\n",
      "\n",
      "Trial 01 summary\n",
      "Hyperparameters:\n",
      "conv_blocks: 1\n",
      "filters_0: 96\n",
      "kernel_size_0: 5\n",
      "filters_1: 48\n",
      "kernel_size_1: 3\n",
      "dense_units: 256\n",
      "dropout_rate: 0.4\n",
      "learning_rate: 0.00015105001054135274\n",
      "Score: 0.7602849900722504\n",
      "\n",
      "Trial 04 summary\n",
      "Hyperparameters:\n",
      "conv_blocks: 1\n",
      "filters_0: 32\n",
      "kernel_size_0: 3\n",
      "filters_1: 32\n",
      "kernel_size_1: 3\n",
      "dense_units: 256\n",
      "dropout_rate: 0.2\n",
      "learning_rate: 0.0008414440623363195\n",
      "Score: 0.7515552937984467\n",
      "\n",
      "Trial 02 summary\n",
      "Hyperparameters:\n",
      "conv_blocks: 1\n",
      "filters_0: 96\n",
      "kernel_size_0: 5\n",
      "filters_1: 112\n",
      "kernel_size_1: 5\n",
      "dense_units: 32\n",
      "dropout_rate: 0.4\n",
      "learning_rate: 0.00030690138263232995\n",
      "Score: 0.7481436729431152\n",
      "\n",
      "Trial 07 summary\n",
      "Hyperparameters:\n",
      "conv_blocks: 1\n",
      "filters_0: 48\n",
      "kernel_size_0: 5\n",
      "filters_1: 96\n",
      "kernel_size_1: 5\n",
      "dense_units: 224\n",
      "dropout_rate: 0.5\n",
      "learning_rate: 0.002430204247711811\n",
      "filters_2: 32\n",
      "kernel_size_2: 5\n",
      "Score: 0.6499096751213074\n",
      "\n",
      "Trial 06 summary\n",
      "Hyperparameters:\n",
      "conv_blocks: 1\n",
      "filters_0: 96\n",
      "kernel_size_0: 3\n",
      "filters_1: 48\n",
      "kernel_size_1: 5\n",
      "dense_units: 64\n",
      "dropout_rate: 0.4\n",
      "learning_rate: 0.00026470456154650525\n",
      "filters_2: 112\n",
      "kernel_size_2: 3\n",
      "Score: 0.5095324218273163\n",
      "\n",
      "Trial 05 summary\n",
      "Hyperparameters:\n",
      "conv_blocks: 3\n",
      "filters_0: 96\n",
      "kernel_size_0: 3\n",
      "filters_1: 112\n",
      "kernel_size_1: 5\n",
      "dense_units: 160\n",
      "dropout_rate: 0.2\n",
      "learning_rate: 0.006423922543610202\n",
      "filters_2: 32\n",
      "kernel_size_2: 3\n",
      "Score: 0.5065221786499023\n"
     ]
    }
   ],
   "source": [
    "tuner.results_summary()"
   ]
  },
  {
   "cell_type": "code",
   "execution_count": 16,
   "id": "1e9eeab6-83f1-4bda-a717-bcd27a34393a",
   "metadata": {},
   "outputs": [
    {
     "name": "stdout",
     "output_type": "stream",
     "text": [
      "WARNING:tensorflow:From C:\\ProgramData\\anaconda3\\envs\\deepLearning\\Lib\\site-packages\\keras\\src\\backend\\common\\global_state.py:82: The name tf.reset_default_graph is deprecated. Please use tf.compat.v1.reset_default_graph instead.\n",
      "\n"
     ]
    },
    {
     "name": "stderr",
     "output_type": "stream",
     "text": [
      "C:\\ProgramData\\anaconda3\\envs\\deepLearning\\Lib\\site-packages\\keras\\src\\saving\\saving_lib.py:719: UserWarning: Skipping variable loading for optimizer 'adam', because it has 2 variables whereas the saved optimizer has 22 variables. \n",
      "  saveable.load_own_variables(weights_store.get(inner_path))\n"
     ]
    }
   ],
   "source": [
    "best_model = tuner.get_best_models(num_models=1)[0]"
   ]
  },
  {
   "cell_type": "code",
   "execution_count": 17,
   "id": "6e65646c-7fd8-4206-974c-5241221a5ab1",
   "metadata": {},
   "outputs": [
    {
     "data": {
      "text/html": [
       "<pre style=\"white-space:pre;overflow-x:auto;line-height:normal;font-family:Menlo,'DejaVu Sans Mono',consolas,'Courier New',monospace\"><span style=\"font-weight: bold\">Model: \"sequential\"</span>\n",
       "</pre>\n"
      ],
      "text/plain": [
       "\u001b[1mModel: \"sequential\"\u001b[0m\n"
      ]
     },
     "metadata": {},
     "output_type": "display_data"
    },
    {
     "data": {
      "text/html": [
       "<pre style=\"white-space:pre;overflow-x:auto;line-height:normal;font-family:Menlo,'DejaVu Sans Mono',consolas,'Courier New',monospace\">┏━━━━━━━━━━━━━━━━━━━━━━━━━━━━━━━━━┳━━━━━━━━━━━━━━━━━━━━━━━━┳━━━━━━━━━━━━━━━┓\n",
       "┃<span style=\"font-weight: bold\"> Layer (type)                    </span>┃<span style=\"font-weight: bold\"> Output Shape           </span>┃<span style=\"font-weight: bold\">       Param # </span>┃\n",
       "┡━━━━━━━━━━━━━━━━━━━━━━━━━━━━━━━━━╇━━━━━━━━━━━━━━━━━━━━━━━━╇━━━━━━━━━━━━━━━┩\n",
       "│ conv2d (<span style=\"color: #0087ff; text-decoration-color: #0087ff\">Conv2D</span>)                 │ (<span style=\"color: #00d7ff; text-decoration-color: #00d7ff\">None</span>, <span style=\"color: #00af00; text-decoration-color: #00af00\">126</span>, <span style=\"color: #00af00; text-decoration-color: #00af00\">126</span>, <span style=\"color: #00af00; text-decoration-color: #00af00\">128</span>)  │         <span style=\"color: #00af00; text-decoration-color: #00af00\">3,584</span> │\n",
       "├─────────────────────────────────┼────────────────────────┼───────────────┤\n",
       "│ max_pooling2d (<span style=\"color: #0087ff; text-decoration-color: #0087ff\">MaxPooling2D</span>)    │ (<span style=\"color: #00d7ff; text-decoration-color: #00d7ff\">None</span>, <span style=\"color: #00af00; text-decoration-color: #00af00\">63</span>, <span style=\"color: #00af00; text-decoration-color: #00af00\">63</span>, <span style=\"color: #00af00; text-decoration-color: #00af00\">128</span>)    │             <span style=\"color: #00af00; text-decoration-color: #00af00\">0</span> │\n",
       "├─────────────────────────────────┼────────────────────────┼───────────────┤\n",
       "│ conv2d_1 (<span style=\"color: #0087ff; text-decoration-color: #0087ff\">Conv2D</span>)               │ (<span style=\"color: #00d7ff; text-decoration-color: #00d7ff\">None</span>, <span style=\"color: #00af00; text-decoration-color: #00af00\">61</span>, <span style=\"color: #00af00; text-decoration-color: #00af00\">61</span>, <span style=\"color: #00af00; text-decoration-color: #00af00\">96</span>)     │       <span style=\"color: #00af00; text-decoration-color: #00af00\">110,688</span> │\n",
       "├─────────────────────────────────┼────────────────────────┼───────────────┤\n",
       "│ max_pooling2d_1 (<span style=\"color: #0087ff; text-decoration-color: #0087ff\">MaxPooling2D</span>)  │ (<span style=\"color: #00d7ff; text-decoration-color: #00d7ff\">None</span>, <span style=\"color: #00af00; text-decoration-color: #00af00\">30</span>, <span style=\"color: #00af00; text-decoration-color: #00af00\">30</span>, <span style=\"color: #00af00; text-decoration-color: #00af00\">96</span>)     │             <span style=\"color: #00af00; text-decoration-color: #00af00\">0</span> │\n",
       "├─────────────────────────────────┼────────────────────────┼───────────────┤\n",
       "│ conv2d_2 (<span style=\"color: #0087ff; text-decoration-color: #0087ff\">Conv2D</span>)               │ (<span style=\"color: #00d7ff; text-decoration-color: #00d7ff\">None</span>, <span style=\"color: #00af00; text-decoration-color: #00af00\">28</span>, <span style=\"color: #00af00; text-decoration-color: #00af00\">28</span>, <span style=\"color: #00af00; text-decoration-color: #00af00\">80</span>)     │        <span style=\"color: #00af00; text-decoration-color: #00af00\">69,200</span> │\n",
       "├─────────────────────────────────┼────────────────────────┼───────────────┤\n",
       "│ max_pooling2d_2 (<span style=\"color: #0087ff; text-decoration-color: #0087ff\">MaxPooling2D</span>)  │ (<span style=\"color: #00d7ff; text-decoration-color: #00d7ff\">None</span>, <span style=\"color: #00af00; text-decoration-color: #00af00\">14</span>, <span style=\"color: #00af00; text-decoration-color: #00af00\">14</span>, <span style=\"color: #00af00; text-decoration-color: #00af00\">80</span>)     │             <span style=\"color: #00af00; text-decoration-color: #00af00\">0</span> │\n",
       "├─────────────────────────────────┼────────────────────────┼───────────────┤\n",
       "│ flatten (<span style=\"color: #0087ff; text-decoration-color: #0087ff\">Flatten</span>)               │ (<span style=\"color: #00d7ff; text-decoration-color: #00d7ff\">None</span>, <span style=\"color: #00af00; text-decoration-color: #00af00\">15680</span>)          │             <span style=\"color: #00af00; text-decoration-color: #00af00\">0</span> │\n",
       "├─────────────────────────────────┼────────────────────────┼───────────────┤\n",
       "│ dense (<span style=\"color: #0087ff; text-decoration-color: #0087ff\">Dense</span>)                   │ (<span style=\"color: #00d7ff; text-decoration-color: #00d7ff\">None</span>, <span style=\"color: #00af00; text-decoration-color: #00af00\">256</span>)            │     <span style=\"color: #00af00; text-decoration-color: #00af00\">4,014,336</span> │\n",
       "├─────────────────────────────────┼────────────────────────┼───────────────┤\n",
       "│ dropout (<span style=\"color: #0087ff; text-decoration-color: #0087ff\">Dropout</span>)               │ (<span style=\"color: #00d7ff; text-decoration-color: #00d7ff\">None</span>, <span style=\"color: #00af00; text-decoration-color: #00af00\">256</span>)            │             <span style=\"color: #00af00; text-decoration-color: #00af00\">0</span> │\n",
       "├─────────────────────────────────┼────────────────────────┼───────────────┤\n",
       "│ dense_1 (<span style=\"color: #0087ff; text-decoration-color: #0087ff\">Dense</span>)                 │ (<span style=\"color: #00d7ff; text-decoration-color: #00d7ff\">None</span>, <span style=\"color: #00af00; text-decoration-color: #00af00\">1</span>)              │           <span style=\"color: #00af00; text-decoration-color: #00af00\">257</span> │\n",
       "└─────────────────────────────────┴────────────────────────┴───────────────┘\n",
       "</pre>\n"
      ],
      "text/plain": [
       "┏━━━━━━━━━━━━━━━━━━━━━━━━━━━━━━━━━┳━━━━━━━━━━━━━━━━━━━━━━━━┳━━━━━━━━━━━━━━━┓\n",
       "┃\u001b[1m \u001b[0m\u001b[1mLayer (type)                   \u001b[0m\u001b[1m \u001b[0m┃\u001b[1m \u001b[0m\u001b[1mOutput Shape          \u001b[0m\u001b[1m \u001b[0m┃\u001b[1m \u001b[0m\u001b[1m      Param #\u001b[0m\u001b[1m \u001b[0m┃\n",
       "┡━━━━━━━━━━━━━━━━━━━━━━━━━━━━━━━━━╇━━━━━━━━━━━━━━━━━━━━━━━━╇━━━━━━━━━━━━━━━┩\n",
       "│ conv2d (\u001b[38;5;33mConv2D\u001b[0m)                 │ (\u001b[38;5;45mNone\u001b[0m, \u001b[38;5;34m126\u001b[0m, \u001b[38;5;34m126\u001b[0m, \u001b[38;5;34m128\u001b[0m)  │         \u001b[38;5;34m3,584\u001b[0m │\n",
       "├─────────────────────────────────┼────────────────────────┼───────────────┤\n",
       "│ max_pooling2d (\u001b[38;5;33mMaxPooling2D\u001b[0m)    │ (\u001b[38;5;45mNone\u001b[0m, \u001b[38;5;34m63\u001b[0m, \u001b[38;5;34m63\u001b[0m, \u001b[38;5;34m128\u001b[0m)    │             \u001b[38;5;34m0\u001b[0m │\n",
       "├─────────────────────────────────┼────────────────────────┼───────────────┤\n",
       "│ conv2d_1 (\u001b[38;5;33mConv2D\u001b[0m)               │ (\u001b[38;5;45mNone\u001b[0m, \u001b[38;5;34m61\u001b[0m, \u001b[38;5;34m61\u001b[0m, \u001b[38;5;34m96\u001b[0m)     │       \u001b[38;5;34m110,688\u001b[0m │\n",
       "├─────────────────────────────────┼────────────────────────┼───────────────┤\n",
       "│ max_pooling2d_1 (\u001b[38;5;33mMaxPooling2D\u001b[0m)  │ (\u001b[38;5;45mNone\u001b[0m, \u001b[38;5;34m30\u001b[0m, \u001b[38;5;34m30\u001b[0m, \u001b[38;5;34m96\u001b[0m)     │             \u001b[38;5;34m0\u001b[0m │\n",
       "├─────────────────────────────────┼────────────────────────┼───────────────┤\n",
       "│ conv2d_2 (\u001b[38;5;33mConv2D\u001b[0m)               │ (\u001b[38;5;45mNone\u001b[0m, \u001b[38;5;34m28\u001b[0m, \u001b[38;5;34m28\u001b[0m, \u001b[38;5;34m80\u001b[0m)     │        \u001b[38;5;34m69,200\u001b[0m │\n",
       "├─────────────────────────────────┼────────────────────────┼───────────────┤\n",
       "│ max_pooling2d_2 (\u001b[38;5;33mMaxPooling2D\u001b[0m)  │ (\u001b[38;5;45mNone\u001b[0m, \u001b[38;5;34m14\u001b[0m, \u001b[38;5;34m14\u001b[0m, \u001b[38;5;34m80\u001b[0m)     │             \u001b[38;5;34m0\u001b[0m │\n",
       "├─────────────────────────────────┼────────────────────────┼───────────────┤\n",
       "│ flatten (\u001b[38;5;33mFlatten\u001b[0m)               │ (\u001b[38;5;45mNone\u001b[0m, \u001b[38;5;34m15680\u001b[0m)          │             \u001b[38;5;34m0\u001b[0m │\n",
       "├─────────────────────────────────┼────────────────────────┼───────────────┤\n",
       "│ dense (\u001b[38;5;33mDense\u001b[0m)                   │ (\u001b[38;5;45mNone\u001b[0m, \u001b[38;5;34m256\u001b[0m)            │     \u001b[38;5;34m4,014,336\u001b[0m │\n",
       "├─────────────────────────────────┼────────────────────────┼───────────────┤\n",
       "│ dropout (\u001b[38;5;33mDropout\u001b[0m)               │ (\u001b[38;5;45mNone\u001b[0m, \u001b[38;5;34m256\u001b[0m)            │             \u001b[38;5;34m0\u001b[0m │\n",
       "├─────────────────────────────────┼────────────────────────┼───────────────┤\n",
       "│ dense_1 (\u001b[38;5;33mDense\u001b[0m)                 │ (\u001b[38;5;45mNone\u001b[0m, \u001b[38;5;34m1\u001b[0m)              │           \u001b[38;5;34m257\u001b[0m │\n",
       "└─────────────────────────────────┴────────────────────────┴───────────────┘\n"
      ]
     },
     "metadata": {},
     "output_type": "display_data"
    },
    {
     "data": {
      "text/html": [
       "<pre style=\"white-space:pre;overflow-x:auto;line-height:normal;font-family:Menlo,'DejaVu Sans Mono',consolas,'Courier New',monospace\"><span style=\"font-weight: bold\"> Total params: </span><span style=\"color: #00af00; text-decoration-color: #00af00\">4,198,065</span> (16.01 MB)\n",
       "</pre>\n"
      ],
      "text/plain": [
       "\u001b[1m Total params: \u001b[0m\u001b[38;5;34m4,198,065\u001b[0m (16.01 MB)\n"
      ]
     },
     "metadata": {},
     "output_type": "display_data"
    },
    {
     "data": {
      "text/html": [
       "<pre style=\"white-space:pre;overflow-x:auto;line-height:normal;font-family:Menlo,'DejaVu Sans Mono',consolas,'Courier New',monospace\"><span style=\"font-weight: bold\"> Trainable params: </span><span style=\"color: #00af00; text-decoration-color: #00af00\">4,198,065</span> (16.01 MB)\n",
       "</pre>\n"
      ],
      "text/plain": [
       "\u001b[1m Trainable params: \u001b[0m\u001b[38;5;34m4,198,065\u001b[0m (16.01 MB)\n"
      ]
     },
     "metadata": {},
     "output_type": "display_data"
    },
    {
     "data": {
      "text/html": [
       "<pre style=\"white-space:pre;overflow-x:auto;line-height:normal;font-family:Menlo,'DejaVu Sans Mono',consolas,'Courier New',monospace\"><span style=\"font-weight: bold\"> Non-trainable params: </span><span style=\"color: #00af00; text-decoration-color: #00af00\">0</span> (0.00 B)\n",
       "</pre>\n"
      ],
      "text/plain": [
       "\u001b[1m Non-trainable params: \u001b[0m\u001b[38;5;34m0\u001b[0m (0.00 B)\n"
      ]
     },
     "metadata": {},
     "output_type": "display_data"
    }
   ],
   "source": [
    "best_model.summary()"
   ]
  },
  {
   "cell_type": "code",
   "execution_count": 19,
   "id": "a441e5df-30d5-4825-9e30-0d15ee670af0",
   "metadata": {},
   "outputs": [
    {
     "name": "stdout",
     "output_type": "stream",
     "text": [
      "Epoch 6/15\n",
      "\u001b[1m561/561\u001b[0m \u001b[32m━━━━━━━━━━━━━━━━━━━━\u001b[0m\u001b[37m\u001b[0m \u001b[1m268s\u001b[0m 471ms/step - accuracy: 0.8728 - loss: 0.2984 - val_accuracy: 0.8876 - val_loss: 0.2852\n",
      "Epoch 7/15\n",
      "\u001b[1m561/561\u001b[0m \u001b[32m━━━━━━━━━━━━━━━━━━━━\u001b[0m\u001b[37m\u001b[0m \u001b[1m253s\u001b[0m 452ms/step - accuracy: 0.8923 - loss: 0.2590 - val_accuracy: 0.8806 - val_loss: 0.2892\n",
      "Epoch 8/15\n",
      "\u001b[1m561/561\u001b[0m \u001b[32m━━━━━━━━━━━━━━━━━━━━\u001b[0m\u001b[37m\u001b[0m \u001b[1m253s\u001b[0m 450ms/step - accuracy: 0.9096 - loss: 0.2218 - val_accuracy: 0.8776 - val_loss: 0.2802\n",
      "Epoch 9/15\n",
      "\u001b[1m561/561\u001b[0m \u001b[32m━━━━━━━━━━━━━━━━━━━━\u001b[0m\u001b[37m\u001b[0m \u001b[1m256s\u001b[0m 456ms/step - accuracy: 0.9246 - loss: 0.1874 - val_accuracy: 0.8791 - val_loss: 0.2943\n",
      "Epoch 10/15\n",
      "\u001b[1m561/561\u001b[0m \u001b[32m━━━━━━━━━━━━━━━━━━━━\u001b[0m\u001b[37m\u001b[0m \u001b[1m255s\u001b[0m 454ms/step - accuracy: 0.9380 - loss: 0.1602 - val_accuracy: 0.8751 - val_loss: 0.3134\n",
      "Epoch 11/15\n",
      "\u001b[1m561/561\u001b[0m \u001b[32m━━━━━━━━━━━━━━━━━━━━\u001b[0m\u001b[37m\u001b[0m \u001b[1m255s\u001b[0m 455ms/step - accuracy: 0.9526 - loss: 0.1283 - val_accuracy: 0.8746 - val_loss: 0.3181\n",
      "Epoch 12/15\n",
      "\u001b[1m561/561\u001b[0m \u001b[32m━━━━━━━━━━━━━━━━━━━━\u001b[0m\u001b[37m\u001b[0m \u001b[1m255s\u001b[0m 454ms/step - accuracy: 0.9663 - loss: 0.0997 - val_accuracy: 0.8796 - val_loss: 0.3307\n",
      "Epoch 13/15\n",
      "\u001b[1m561/561\u001b[0m \u001b[32m━━━━━━━━━━━━━━━━━━━━\u001b[0m\u001b[37m\u001b[0m \u001b[1m254s\u001b[0m 453ms/step - accuracy: 0.9765 - loss: 0.0739 - val_accuracy: 0.8816 - val_loss: 0.3511\n",
      "Epoch 14/15\n",
      "\u001b[1m561/561\u001b[0m \u001b[32m━━━━━━━━━━━━━━━━━━━━\u001b[0m\u001b[37m\u001b[0m \u001b[1m255s\u001b[0m 455ms/step - accuracy: 0.9850 - loss: 0.0528 - val_accuracy: 0.8716 - val_loss: 0.4104\n",
      "Epoch 15/15\n",
      "\u001b[1m561/561\u001b[0m \u001b[32m━━━━━━━━━━━━━━━━━━━━\u001b[0m\u001b[37m\u001b[0m \u001b[1m254s\u001b[0m 453ms/step - accuracy: 0.9911 - loss: 0.0367 - val_accuracy: 0.8695 - val_loss: 0.4319\n"
     ]
    },
    {
     "data": {
      "text/plain": [
       "<keras.src.callbacks.history.History at 0x271ba33b980>"
      ]
     },
     "execution_count": 19,
     "metadata": {},
     "output_type": "execute_result"
    }
   ],
   "source": [
    "best_model.fit(X_train,y_train,epochs=15,validation_split=0.1,initial_epoch=5)"
   ]
  },
  {
   "cell_type": "code",
   "execution_count": 20,
   "id": "e552917c-8485-456a-86ba-8ee59e1f8638",
   "metadata": {},
   "outputs": [
    {
     "name": "stdout",
     "output_type": "stream",
     "text": [
      "\u001b[1m156/156\u001b[0m \u001b[32m━━━━━━━━━━━━━━━━━━━━\u001b[0m\u001b[37m\u001b[0m \u001b[1m18s\u001b[0m 118ms/step\n"
     ]
    }
   ],
   "source": [
    "y_pred=best_model.predict(X_test)"
   ]
  },
  {
   "cell_type": "code",
   "execution_count": 21,
   "id": "ba8d3e90-62f3-4417-a107-8b32a75a5ad2",
   "metadata": {},
   "outputs": [
    {
     "data": {
      "text/plain": [
       "array([[9.8809946e-01],\n",
       "       [3.1063053e-01],\n",
       "       [9.9626422e-01],\n",
       "       ...,\n",
       "       [9.9993098e-01],\n",
       "       [4.1904590e-05],\n",
       "       [1.5453205e-06]], dtype=float32)"
      ]
     },
     "execution_count": 21,
     "metadata": {},
     "output_type": "execute_result"
    }
   ],
   "source": [
    "y_pred"
   ]
  },
  {
   "cell_type": "code",
   "execution_count": 22,
   "id": "566c2a05-dd89-43a0-bbff-e42d1532eb8f",
   "metadata": {},
   "outputs": [
    {
     "data": {
      "text/plain": [
       "0.8352398153722657"
      ]
     },
     "execution_count": 22,
     "metadata": {},
     "output_type": "execute_result"
    }
   ],
   "source": [
    "from sklearn.metrics import accuracy_score\n",
    "\n",
    "# Convert probabilities to binary values\n",
    "y_pred_binary = np.where(y_pred >= 0.5, 1, 0)\n",
    "\n",
    "# Calculate accuracy\n",
    "accuracy = accuracy_score( y_pred_binary,y_test)\n",
    "accuracy"
   ]
  },
  {
   "cell_type": "code",
   "execution_count": 23,
   "id": "4abceddb-03c9-4dfe-8905-319487b95a97",
   "metadata": {},
   "outputs": [
    {
     "data": {
      "text/plain": [
       "array([[1],\n",
       "       [0],\n",
       "       [1],\n",
       "       ...,\n",
       "       [1],\n",
       "       [0],\n",
       "       [0]])"
      ]
     },
     "execution_count": 23,
     "metadata": {},
     "output_type": "execute_result"
    }
   ],
   "source": [
    "y_pred_binary"
   ]
  },
  {
   "cell_type": "code",
   "execution_count": 24,
   "id": "2f5685a1-e787-49e1-8fc7-c021e47f1277",
   "metadata": {},
   "outputs": [
    {
     "data": {
      "text/plain": [
       "array([1, 0, 1, ..., 0, 0, 0])"
      ]
     },
     "execution_count": 24,
     "metadata": {},
     "output_type": "execute_result"
    }
   ],
   "source": [
    "y_test"
   ]
  },
  {
   "cell_type": "code",
   "execution_count": 26,
   "id": "35d997f7-4162-4c37-88e9-998b1035f948",
   "metadata": {},
   "outputs": [],
   "source": [
    "best_model.save('best_cat_dog_classifier.keras')\n"
   ]
  },
  {
   "cell_type": "code",
   "execution_count": 1,
   "id": "0f96cacf-00c2-494c-9a74-fbd989d9d52c",
   "metadata": {},
   "outputs": [
    {
     "name": "stderr",
     "output_type": "stream",
     "text": [
      "C:\\ProgramData\\anaconda3\\envs\\deepLearning\\Lib\\site-packages\\keras\\src\\saving\\saving_lib.py:719: UserWarning: Skipping variable loading for optimizer 'rmsprop', because it has 12 variables whereas the saved optimizer has 22 variables. \n",
      "  saveable.load_own_variables(weights_store.get(inner_path))\n"
     ]
    }
   ],
   "source": [
    "from keras.models import load_model\n",
    "\n",
    "# Load the model\n",
    "model = load_model('best_cat_dog_classifier.keras')"
   ]
  },
  {
   "cell_type": "code",
   "execution_count": 2,
   "id": "f791e0b9-6bfe-4117-867d-a81139ee6c10",
   "metadata": {},
   "outputs": [],
   "source": [
    "from tensorflow.keras.preprocessing.image import load_img,img_to_array\n",
    "import cv2"
   ]
  },
  {
   "cell_type": "code",
   "execution_count": 11,
   "id": "23df3756-5514-4c4e-b4cf-9231f9528edd",
   "metadata": {},
   "outputs": [],
   "source": [
    "img = cv2.imread('dog1.jpeg')\n",
    "img_size=(128,128)\n",
    "img = cv2.resize(img, img_size)"
   ]
  },
  {
   "cell_type": "code",
   "execution_count": 12,
   "id": "9d78ae8f-3b6d-44fc-a8e8-7db50ba599dd",
   "metadata": {},
   "outputs": [],
   "source": [
    "dog=img_to_array(img)"
   ]
  },
  {
   "cell_type": "code",
   "execution_count": 13,
   "id": "9cabd251-0062-4151-882f-cab5a4a30f67",
   "metadata": {},
   "outputs": [],
   "source": [
    "dog=dog.reshape(-1,128,128,3)\n",
    "dog=dog/255"
   ]
  },
  {
   "cell_type": "code",
   "execution_count": 14,
   "id": "7adf21e9-a2f9-495c-b996-f359bc455f5e",
   "metadata": {},
   "outputs": [
    {
     "name": "stdout",
     "output_type": "stream",
     "text": [
      "\u001b[1m1/1\u001b[0m \u001b[32m━━━━━━━━━━━━━━━━━━━━\u001b[0m\u001b[37m\u001b[0m \u001b[1m0s\u001b[0m 24ms/step\n"
     ]
    },
    {
     "data": {
      "text/plain": [
       "array([[0.0637662]], dtype=float32)"
      ]
     },
     "execution_count": 14,
     "metadata": {},
     "output_type": "execute_result"
    }
   ],
   "source": [
    "model.predict(dog)"
   ]
  },
  {
   "cell_type": "code",
   "execution_count": 17,
   "id": "df2ca577-5c0a-4b8e-82ab-fc196609cc1b",
   "metadata": {},
   "outputs": [],
   "source": [
    "img = cv2.imread('cat.jpeg')\n",
    "img_size=(128,128)\n",
    "img = cv2.resize(img, img_size)"
   ]
  },
  {
   "cell_type": "code",
   "execution_count": 18,
   "id": "e65760c5-ce80-40c2-91d0-8fb774c57769",
   "metadata": {},
   "outputs": [],
   "source": [
    "cat=img_to_array(img)\n",
    "cat=cat.reshape(-1,128,128,3)\n"
   ]
  },
  {
   "cell_type": "code",
   "execution_count": 30,
   "id": "c2ebfcc4-e999-4f21-847d-7f9981b75de0",
   "metadata": {},
   "outputs": [],
   "source": [
    "cat=cat/255"
   ]
  },
  {
   "cell_type": "code",
   "execution_count": 41,
   "id": "4f40fe00-86c1-46e1-9afa-3ed06dc742ae",
   "metadata": {},
   "outputs": [
    {
     "name": "stdout",
     "output_type": "stream",
     "text": [
      "\u001b[1m1/1\u001b[0m \u001b[32m━━━━━━━━━━━━━━━━━━━━\u001b[0m\u001b[37m\u001b[0m \u001b[1m0s\u001b[0m 28ms/step\n"
     ]
    }
   ],
   "source": [
    "cat_pred=model.predict(cat)"
   ]
  },
  {
   "cell_type": "code",
   "execution_count": 43,
   "id": "1d1f3eec-36c5-4294-8122-197da9e0473c",
   "metadata": {},
   "outputs": [
    {
     "data": {
      "text/plain": [
       "1"
      ]
     },
     "execution_count": 43,
     "metadata": {},
     "output_type": "execute_result"
    }
   ],
   "source": [
    "if(dog_pred<0.9):\n",
    "    dog_pred=0\n",
    "else:\n",
    "    dog_pred=1\n",
    "dog_pred"
   ]
  },
  {
   "cell_type": "code",
   "execution_count": 44,
   "id": "b6fb4267-856d-42d4-9351-39ced9fcac6d",
   "metadata": {},
   "outputs": [
    {
     "data": {
      "text/plain": [
       "0"
      ]
     },
     "execution_count": 44,
     "metadata": {},
     "output_type": "execute_result"
    }
   ],
   "source": [
    "if(cat_pred<0.1):\n",
    "    cat_pred=0\n",
    "else:\n",
    "    cat_pred=1\n",
    "cat_pred"
   ]
  },
  {
   "cell_type": "code",
   "execution_count": 23,
   "id": "fbf88e08-2303-4ba0-b4b5-2d18d213407f",
   "metadata": {},
   "outputs": [],
   "source": [
    "img = cv2.imread('human.jpeg')\n",
    "img_size=(128,128)\n",
    "img = cv2.resize(img, img_size)"
   ]
  },
  {
   "cell_type": "code",
   "execution_count": 26,
   "id": "c1fd4b79-a412-4a66-badc-34d0c6b18bb1",
   "metadata": {},
   "outputs": [],
   "source": [
    "human=img_to_array(img)\n",
    "human=human.reshape(-1,128,128,3)\n",
    "human=human/255"
   ]
  },
  {
   "cell_type": "code",
   "execution_count": 27,
   "id": "2a905087-2622-4a1c-b3a8-56d6391341f6",
   "metadata": {},
   "outputs": [
    {
     "name": "stdout",
     "output_type": "stream",
     "text": [
      "\u001b[1m1/1\u001b[0m \u001b[32m━━━━━━━━━━━━━━━━━━━━\u001b[0m\u001b[37m\u001b[0m \u001b[1m0s\u001b[0m 29ms/step\n"
     ]
    },
    {
     "data": {
      "text/plain": [
       "array([[0.13895126]], dtype=float32)"
      ]
     },
     "execution_count": 27,
     "metadata": {},
     "output_type": "execute_result"
    }
   ],
   "source": [
    "model.predict(human)"
   ]
  },
  {
   "cell_type": "code",
   "execution_count": 15,
   "id": "04633e33-5fce-4127-b434-6bfc327fe2e2",
   "metadata": {},
   "outputs": [],
   "source": [
    "#retraining the model\n",
    "import pandas as pd\n",
    "import numpy as np"
   ]
  },
  {
   "cell_type": "code",
   "execution_count": 16,
   "id": "4f7d2582-24b0-458f-8126-61b2b95a6e88",
   "metadata": {},
   "outputs": [],
   "source": [
    "import os\n",
    "import cv2  # For image processing\n",
    "from tqdm import tqdm "
   ]
  },
  {
   "cell_type": "code",
   "execution_count": 17,
   "id": "a4cad5da-c723-4ced-9682-f6006f903a23",
   "metadata": {},
   "outputs": [],
   "source": [
    "cat_folder = 'Cat1/'\n",
    "dog_folder = 'Dog1/'"
   ]
  },
  {
   "cell_type": "code",
   "execution_count": null,
   "id": "5fc38f6c-42d9-4a57-8b09-2ccec8bf47de",
   "metadata": {},
   "outputs": [
    {
     "name": "stderr",
     "output_type": "stream",
     "text": [
      "Loading cat images:  48%|████▊     | 60880/126607 [07:53<09:49, 111.53it/s]"
     ]
    }
   ],
   "source": [
    "IMG_SIZE = (128, 128)  # Resize images to 128x128\n",
    "\n",
    "# Prepare lists to store images and labels\n",
    "images = []\n",
    "labels = []\n",
    "\n",
    "# Load cat images and assign label 0\n",
    "for img_name in tqdm(os.listdir(cat_folder), desc=\"Loading cat images\"):\n",
    "    img_path = os.path.join(cat_folder, img_name)\n",
    "    img = cv2.imread(img_path)\n",
    "    if img is not None:\n",
    "        img = cv2.resize(img, IMG_SIZE)  # Resize to standard size\n",
    "        images.append(img)\n",
    "        labels.append(0)  # Label 0 for cat\n",
    "\n",
    "# Load dog images and assign label 1\n",
    "for img_name in tqdm(os.listdir(dog_folder), desc=\"Loading dog images\"):\n",
    "    img_path = os.path.join(dog_folder, img_name)\n",
    "    img = cv2.imread(img_path)\n",
    "    if img is not None:\n",
    "        img = cv2.resize(img, IMG_SIZE)\n",
    "        images.append(img)\n",
    "        labels.append(1)  # Label 1 for dog"
   ]
  },
  {
   "cell_type": "code",
   "execution_count": 1,
   "id": "339fbbda-815d-4aad-872c-cf4266cd3684",
   "metadata": {},
   "outputs": [
    {
     "name": "stdout",
     "output_type": "stream",
     "text": [
      "3.6.0\n"
     ]
    }
   ],
   "source": [
    "import keras\n",
    "print(keras.__version__)"
   ]
  },
  {
   "cell_type": "code",
   "execution_count": 2,
   "id": "89f50af3-b733-4719-8815-433bbb40c669",
   "metadata": {},
   "outputs": [
    {
     "data": {
      "text/plain": [
       "'2.18.0'"
      ]
     },
     "execution_count": 2,
     "metadata": {},
     "output_type": "execute_result"
    }
   ],
   "source": [
    "import tensorflow\n",
    "tensorflow.__version__"
   ]
  },
  {
   "cell_type": "code",
   "execution_count": 3,
   "id": "fa8fd4da-6580-45ac-a5aa-5b02364c6b34",
   "metadata": {},
   "outputs": [
    {
     "data": {
      "text/plain": [
       "'2.0.2'"
      ]
     },
     "execution_count": 3,
     "metadata": {},
     "output_type": "execute_result"
    }
   ],
   "source": [
    "import numpy\n",
    "numpy.__version__"
   ]
  },
  {
   "cell_type": "code",
   "execution_count": null,
   "id": "51f5f351-69f3-4f4e-b72e-427b6483a223",
   "metadata": {},
   "outputs": [],
   "source": []
  }
 ],
 "metadata": {
  "kernelspec": {
   "display_name": "Python 3 (ipykernel)",
   "language": "python",
   "name": "python3"
  },
  "language_info": {
   "codemirror_mode": {
    "name": "ipython",
    "version": 3
   },
   "file_extension": ".py",
   "mimetype": "text/x-python",
   "name": "python",
   "nbconvert_exporter": "python",
   "pygments_lexer": "ipython3",
   "version": "3.9.20"
  }
 },
 "nbformat": 4,
 "nbformat_minor": 5
}
